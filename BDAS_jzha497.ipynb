{
 "cells": [
  {
   "cell_type": "code",
   "execution_count": 2,
   "metadata": {},
   "outputs": [],
   "source": [
    "import findspark\n",
    "findspark.init('/home/ubuntu/spark-2.1.1-bin-hadoop2.7')\n",
    "import pyspark\n",
    "from pyspark.sql import SparkSession\n",
    "spark=SparkSession.builder.appName('722-BDAS-jzha497').getOrCreate()\n"
   ]
  },
  {
   "cell_type": "code",
   "execution_count": 108,
   "metadata": {},
   "outputs": [],
   "source": [
    "df=spark.read.load('./Heart_Disease_Prediction.csv',format=\"csv\",header=\"true\", inferSchema=True)"
   ]
  },
  {
   "cell_type": "code",
   "execution_count": 109,
   "metadata": {},
   "outputs": [
    {
     "name": "stdout",
     "output_type": "stream",
     "text": [
      "+---+---+---------------+---+-----------+------------+-----------+------+---------------+-------------+-----------+-----------------------+--------+-------------+\n",
      "|Age|Sex|Chest pain type| BP|Cholesterol|FBS over 120|EKG results|Max HR|Exercise angina|ST depression|Slope of ST|Number of vessels fluro|Thallium|Heart Disease|\n",
      "+---+---+---------------+---+-----------+------------+-----------+------+---------------+-------------+-----------+-----------------------+--------+-------------+\n",
      "| 70|  1|              4|130|        322|           0|          2|   109|              0|          2.4|          2|                      3|       3|            1|\n",
      "| 67|  0|              3|115|        564|           0|          2|   160|              0|          1.6|          2|                      0|       7|            0|\n",
      "| 57|  1|              2|124|        261|           0|          0|   141|              0|          0.3|          1|                      0|       7|            1|\n",
      "| 64|  1|              4|128|        263|           0|          0|   105|              1|          0.2|          2|                      1|       7|            0|\n",
      "| 74|  0|              2|120|        269|           0|          2|   121|              1|          0.2|          1|                      1|       3|            0|\n",
      "| 65|  1|              4|120|        177|           0|          0|   140|              0|          0.4|          1|                      0|       7|            0|\n",
      "| 56|  1|              3|130|        256|           1|          2|   142|              1|          0.6|          2|                      1|       6|            1|\n",
      "| 59|  1|              4|110|        239|           0|          2|   142|              1|          1.2|          2|                      1|       7|            1|\n",
      "| 60|  1|              4|140|        293|           0|          2|   170|              0|          1.2|          2|                      2|       7|            1|\n",
      "| 63|  0|              4|150|        407|           0|          2|   154|              0|          4.0|          2|                      3|       7|            1|\n",
      "| 59|  1|              4|135|        234|           0|          0|   161|              0|          0.5|          2|                      0|       7|            0|\n",
      "| 53|  1|              4|142|        226|           0|          2|   111|              1|          0.0|          1|                      0|       7|            0|\n",
      "| 44|  1|              3|140|        235|           0|          2|   180|              0|          0.0|          1|                      0|       3|            0|\n",
      "| 61|  1|              1|134|        234|           0|          0|   145|              0|          2.6|          2|                      2|       3|            1|\n",
      "| 57|  0|              4|128|        303|           0|          2|   159|              0|          0.0|          1|                      1|       3|            0|\n",
      "| 71|  0|              4|112|        149|           0|          0|   125|              0|          1.6|          2|                      0|       3|            0|\n",
      "| 46|  1|              4|140|        311|           0|          0|   120|              1|          1.8|          2|                      2|       7|            1|\n",
      "| 53|  1|              4|140|        203|           1|          2|   155|              1|          3.1|          3|                      0|       7|            1|\n",
      "| 64|  1|              1|110|        211|           0|          2|   144|              1|          1.8|          2|                      0|       3|            0|\n",
      "| 40|  1|              1|140|        199|           0|          0|   178|              1|          1.4|          1|                      0|       7|            0|\n",
      "+---+---+---------------+---+-----------+------------+-----------+------+---------------+-------------+-----------+-----------------------+--------+-------------+\n",
      "only showing top 20 rows\n",
      "\n"
     ]
    }
   ],
   "source": [
    "df.show()\n"
   ]
  },
  {
   "cell_type": "code",
   "execution_count": 110,
   "metadata": {},
   "outputs": [
    {
     "name": "stdout",
     "output_type": "stream",
     "text": [
      "+-------+-----------------+------------------+------------------+------------------+------------------+-------------------+------------------+------------------+------------------+------------------+------------------+-----------------------+------------------+------------------+\n",
      "|summary|              Age|               Sex|   Chest pain type|                BP|       Cholesterol|       FBS over 120|       EKG results|            Max HR|   Exercise angina|     ST depression|       Slope of ST|Number of vessels fluro|          Thallium|     Heart Disease|\n",
      "+-------+-----------------+------------------+------------------+------------------+------------------+-------------------+------------------+------------------+------------------+------------------+------------------+-----------------------+------------------+------------------+\n",
      "|  count|              270|               270|               270|               269|               268|                270|               270|               269|               270|               270|               270|                    270|               270|               270|\n",
      "|   mean|54.43333333333333|0.6777777777777778| 3.174074074074074|131.34944237918216|249.68283582089552|0.14814814814814814|1.0222222222222221|149.58736059479554|0.3296296296296296|1.0499999999999996|1.5851851851851853|     0.6703703703703704| 4.696296296296296|0.4444444444444444|\n",
      "| stddev|9.109066523898207|0.4681954071552696|0.9500900339228637|17.894712011415024| 51.82410618082197|0.35590647697073136|0.9978912089661106|23.161116172065306|0.4709515913013828| 1.145209839377997|0.6143898376781299|     0.9438963834881158|1.9406589693457779|0.4978267515886163|\n",
      "|    min|               29|                 0|                 1|                94|               126|                  0|                 0|                71|                 0|               0.0|                 1|                      0|                 3|                 0|\n",
      "|    max|               77|                 1|                 4|               200|               564|                  1|                 2|               202|                 1|               6.2|                 3|                      3|                 7|                 1|\n",
      "+-------+-----------------+------------------+------------------+------------------+------------------+-------------------+------------------+------------------+------------------+------------------+------------------+-----------------------+------------------+------------------+\n",
      "\n"
     ]
    }
   ],
   "source": [
    "df.describe().show()"
   ]
  },
  {
   "cell_type": "code",
   "execution_count": 111,
   "metadata": {},
   "outputs": [
    {
     "name": "stdout",
     "output_type": "stream",
     "text": [
      "root\n",
      " |-- Age: integer (nullable = true)\n",
      " |-- Sex: integer (nullable = true)\n",
      " |-- Chest pain type: integer (nullable = true)\n",
      " |-- BP: integer (nullable = true)\n",
      " |-- Cholesterol: integer (nullable = true)\n",
      " |-- FBS over 120: integer (nullable = true)\n",
      " |-- EKG results: integer (nullable = true)\n",
      " |-- Max HR: integer (nullable = true)\n",
      " |-- Exercise angina: integer (nullable = true)\n",
      " |-- ST depression: double (nullable = true)\n",
      " |-- Slope of ST: integer (nullable = true)\n",
      " |-- Number of vessels fluro: integer (nullable = true)\n",
      " |-- Thallium: integer (nullable = true)\n",
      " |-- Heart Disease: integer (nullable = true)\n",
      "\n"
     ]
    }
   ],
   "source": [
    "df.printSchema()"
   ]
  },
  {
   "cell_type": "code",
   "execution_count": 112,
   "metadata": {},
   "outputs": [],
   "source": [
    "import matplotlib.pyplot as plt\n",
    "import pandas as pd\n",
    "Heart_df = pd.read_csv(\"./Heart_Disease_Prediction.csv\")"
   ]
  },
  {
   "cell_type": "code",
   "execution_count": 113,
   "metadata": {},
   "outputs": [
    {
     "data": {
      "image/png": "[encoded data removed]",
      "text/plain": [
       "<Figure size 432x288 with 1 Axes>"
      ]
     },
     "metadata": {},
     "output_type": "display_data"
    }
   ],
   "source": [
    "plt.hist(Heart_df[\"Age\"],bins=30)\n",
    "plt.show()"
   ]
  },
  {
   "cell_type": "code",
   "execution_count": 114,
   "metadata": {},
   "outputs": [
    {
     "data": {
      "image/png": "[encoded data removed]",
      "text/plain": [
       "<Figure size 432x288 with 1 Axes>"
      ]
     },
     "metadata": {},
     "output_type": "display_data"
    },
    {
     "data": {
      "image/png": "[encoded data removed]",
      "text/plain": [
       "<Figure size 432x288 with 1 Axes>"
      ]
     },
     "metadata": {},
     "output_type": "display_data"
    }
   ],
   "source": [
    "plt.hist(Heart_df[\"Sex\"])\n",
    "plt.show()\n",
    "\n",
    "plt.hist(Heart_df[\"Chest pain type\"])\n",
    "plt.show()\n",
    "\n",
    "\n"
   ]
  },
  {
   "cell_type": "code",
   "execution_count": 115,
   "metadata": {},
   "outputs": [
    {
     "data": {
      "image/png": "[encoded data removed]",
      "text/plain": [
       "<Figure size 432x288 with 1 Axes>"
      ]
     },
     "metadata": {},
     "output_type": "display_data"
    },
    {
     "data": {
      "image/png": "[encoded data removed]",
      "text/plain": [
       "<Figure size 432x288 with 1 Axes>"
      ]
     },
     "metadata": {},
     "output_type": "display_data"
    },
    {
     "data": {
      "image/png": "[encoded data removed]",
      "text/plain": [
       "<Figure size 432x288 with 1 Axes>"
      ]
     },
     "metadata": {},
     "output_type": "display_data"
    },
    {
     "data": {
      "image/png": "[encoded data removed]",
      "text/plain": [
       "<Figure size 432x288 with 1 Axes>"
      ]
     },
     "metadata": {},
     "output_type": "display_data"
    },
    {
     "data": {
      "image/png": "[encoded data removed]",
      "text/plain": [
       "<Figure size 432x288 with 1 Axes>"
      ]
     },
     "metadata": {},
     "output_type": "display_data"
    },
    {
     "data": {
      "image/png": "[encoded data removed]",
      "text/plain": [
       "<Figure size 432x288 with 1 Axes>"
      ]
     },
     "metadata": {},
     "output_type": "display_data"
    },
    {
     "data": {
      "image/png": "[encoded data removed]",
      "text/plain": [
       "<Figure size 432x288 with 1 Axes>"
      ]
     },
     "metadata": {},
     "output_type": "display_data"
    },
    {
     "data": {
      "image/png": "[encoded data removed]",
      "text/plain": [
       "<Figure size 432x288 with 1 Axes>"
      ]
     },
     "metadata": {},
     "output_type": "display_data"
    },
    {
     "data": {
      "image/png": "[encoded data removed]",
      "text/plain": [
       "<Figure size 432x288 with 1 Axes>"
      ]
     },
     "metadata": {},
     "output_type": "display_data"
    },
    {
     "data": {
      "image/png": "[encoded data removed]",
      "text/plain": [
       "<Figure size 432x288 with 1 Axes>"
      ]
     },
     "metadata": {},
     "output_type": "display_data"
    }
   ],
   "source": [
    "plt.hist(Heart_df[\"BP\"].dropna())\n",
    "plt.show()\n",
    "plt.hist(Heart_df[\"FBS over 120\"])\n",
    "plt.show()\n",
    "plt.hist(Heart_df[\"EKG results\"])\n",
    "plt.show()\n",
    "plt.hist(Heart_df[\"Max HR\"].dropna())\n",
    "plt.show()\n",
    "plt.hist(Heart_df[\"Exercise angina\"])\n",
    "plt.show()\n",
    "plt.hist(Heart_df[\"ST depression\"])\n",
    "plt.show()\n",
    "plt.hist(Heart_df[\"Slope of ST\"])\n",
    "plt.show()\n",
    "plt.hist(Heart_df[\"Number of vessels fluro\"])\n",
    "plt.show()\n",
    "plt.hist(Heart_df[\"Thallium\"])\n",
    "plt.show()\n",
    "plt.hist(Heart_df[\"Heart Disease\"])\n",
    "plt.show()"
   ]
  },
  {
   "cell_type": "code",
   "execution_count": 116,
   "metadata": {},
   "outputs": [
    {
     "data": {
      "image/png": "[encoded data removed]",
      "text/plain": [
       "<Figure size 432x288 with 1 Axes>"
      ]
     },
     "metadata": {},
     "output_type": "display_data"
    }
   ],
   "source": [
    "plt.hist(Heart_df[\"Cholesterol\"].dropna())\n",
    "plt.show()"
   ]
  },
  {
   "cell_type": "code",
   "execution_count": 117,
   "metadata": {},
   "outputs": [
    {
     "name": "stdout",
     "output_type": "stream",
     "text": [
      "Age \t with null values:  0\n",
      "Sex \t with null values:  0\n",
      "Chest pain type \t with null values:  0\n",
      "BP \t with null values:  1\n",
      "Cholesterol \t with null values:  2\n",
      "FBS over 120 \t with null values:  0\n",
      "EKG results \t with null values:  0\n",
      "Max HR \t with null values:  1\n",
      "Exercise angina \t with null values:  0\n",
      "ST depression \t with null values:  0\n",
      "Slope of ST \t with null values:  0\n",
      "Number of vessels fluro \t with null values:  0\n",
      "Thallium \t with null values:  0\n",
      "Heart Disease \t with null values:  0\n"
     ]
    }
   ],
   "source": [
    "for col in df.columns:\n",
    "    print(col, \"\\t\", \"with null values: \", \n",
    "          df.filter(df[col].isNull()).count())"
   ]
  },
  {
   "cell_type": "code",
   "execution_count": 118,
   "metadata": {},
   "outputs": [
    {
     "data": {
      "text/plain": [
       "14"
      ]
     },
     "execution_count": 118,
     "metadata": {},
     "output_type": "execute_result"
    }
   ],
   "source": [
    "len(df.columns)\n"
   ]
  },
  {
   "cell_type": "code",
   "execution_count": 119,
   "metadata": {},
   "outputs": [
    {
     "data": {
      "text/plain": [
       "270"
      ]
     },
     "execution_count": 119,
     "metadata": {},
     "output_type": "execute_result"
    }
   ],
   "source": [
    "df.count()"
   ]
  },
  {
   "cell_type": "code",
   "execution_count": 120,
   "metadata": {},
   "outputs": [
    {
     "name": "stdout",
     "output_type": "stream",
     "text": [
      "+---+---+---------------+-----+-----------+------------+-----------+------+---------------+-------------+-----------+-----------------------+--------+-------------+\n",
      "|Age|Sex|Chest pain type|   BP|Cholesterol|FBS over 120|EKG results|Max HR|Exercise angina|ST depression|Slope of ST|Number of vessels fluro|Thallium|Heart Disease|\n",
      "+---+---+---------------+-----+-----------+------------+-----------+------+---------------+-------------+-----------+-----------------------+--------+-------------+\n",
      "| 70|  1|              4|130.0|      322.0|           0|          2| 109.0|              0|          2.4|          2|                      3|       3|            1|\n",
      "| 67|  0|              3|115.0|      564.0|           0|          2| 160.0|              0|          1.6|          2|                      0|       7|            0|\n",
      "| 57|  1|              2|124.0|      261.0|           0|          0| 141.0|              0|          0.3|          1|                      0|       7|            1|\n",
      "| 64|  1|              4|128.0|      263.0|           0|          0| 105.0|              1|          0.2|          2|                      1|       7|            0|\n",
      "| 74|  0|              2|120.0|      269.0|           0|          2| 121.0|              1|          0.2|          1|                      1|       3|            0|\n",
      "| 65|  1|              4|120.0|      177.0|           0|          0| 140.0|              0|          0.4|          1|                      0|       7|            0|\n",
      "| 56|  1|              3|130.0|      256.0|           1|          2| 142.0|              1|          0.6|          2|                      1|       6|            1|\n",
      "| 59|  1|              4|110.0|      239.0|           0|          2| 142.0|              1|          1.2|          2|                      1|       7|            1|\n",
      "| 60|  1|              4|140.0|      293.0|           0|          2| 170.0|              0|          1.2|          2|                      2|       7|            1|\n",
      "| 63|  0|              4|150.0|      407.0|           0|          2| 154.0|              0|          4.0|          2|                      3|       7|            1|\n",
      "| 59|  1|              4|135.0|      234.0|           0|          0| 161.0|              0|          0.5|          2|                      0|       7|            0|\n",
      "| 53|  1|              4|142.0|      226.0|           0|          2| 111.0|              1|          0.0|          1|                      0|       7|            0|\n",
      "| 44|  1|              3|140.0|      235.0|           0|          2| 180.0|              0|          0.0|          1|                      0|       3|            0|\n",
      "| 61|  1|              1|134.0|      234.0|           0|          0| 145.0|              0|          2.6|          2|                      2|       3|            1|\n",
      "| 57|  0|              4|128.0|      303.0|           0|          2| 159.0|              0|          0.0|          1|                      1|       3|            0|\n",
      "| 71|  0|              4|112.0|      149.0|           0|          0| 125.0|              0|          1.6|          2|                      0|       3|            0|\n",
      "| 46|  1|              4|140.0|      311.0|           0|          0| 120.0|              1|          1.8|          2|                      2|       7|            1|\n",
      "| 53|  1|              4|140.0|      203.0|           1|          2| 155.0|              1|          3.1|          3|                      0|       7|            1|\n",
      "| 64|  1|              1|110.0|      211.0|           0|          2| 144.0|              1|          1.8|          2|                      0|       3|            0|\n",
      "| 40|  1|              1|140.0|      199.0|           0|          0| 178.0|              1|          1.4|          1|                      0|       7|            0|\n",
      "+---+---+---------------+-----+-----------+------------+-----------+------+---------------+-------------+-----------+-----------------------+--------+-------------+\n",
      "only showing top 20 rows\n",
      "\n"
     ]
    }
   ],
   "source": [
    "from pyspark.sql.functions import when\n",
    "import pyspark.sql.functions as F\n",
    "\n",
    "def mean_of_pyspark_columns(df, numeric_cols):\n",
    "    col_with_mean = []\n",
    "    for col in numeric_cols:\n",
    "        mean_value = df.select(F.avg(df[col]))\n",
    "        avg_col = mean_value.columns[0]\n",
    "        res = mean_value.rdd.map(lambda row: row[avg_col]).collect()\n",
    "        col_with_mean.append([col, res[0]])\n",
    "    return col_with_mean\n",
    "\n",
    "\n",
    "def fill_missing_with_mean(df, numeric_cols):\n",
    "    col_with_mean = mean_of_pyspark_columns(df, numeric_cols)\n",
    "    for col, mean in col_with_mean:\n",
    "        df = df.withColumn(col, when(df[col].isNull() == True, F.lit(mean)).otherwise(df[col]))\n",
    "    return df\n",
    "\n",
    "if __name__ == '__main__':\n",
    "    \n",
    "    numeric_cols = ['BP', 'Cholesterol','Max HR']  \n",
    "    df = fill_missing_with_mean(df, numeric_cols)  \n",
    "    df.show()"
   ]
  },
  {
   "cell_type": "code",
   "execution_count": 121,
   "metadata": {},
   "outputs": [
    {
     "name": "stdout",
     "output_type": "stream",
     "text": [
      "Age \t with null values:  0\n",
      "Sex \t with null values:  0\n",
      "Chest pain type \t with null values:  0\n",
      "BP \t with null values:  0\n",
      "Cholesterol \t with null values:  0\n",
      "FBS over 120 \t with null values:  0\n",
      "EKG results \t with null values:  0\n",
      "Max HR \t with null values:  0\n",
      "Exercise angina \t with null values:  0\n",
      "ST depression \t with null values:  0\n",
      "Slope of ST \t with null values:  0\n",
      "Number of vessels fluro \t with null values:  0\n",
      "Thallium \t with null values:  0\n",
      "Heart Disease \t with null values:  0\n"
     ]
    }
   ],
   "source": [
    "for col in df.columns:\n",
    "    print(col, \"\\t\", \"with null values: \", \n",
    "          df.filter(df[col].isNull()).count())"
   ]
  },
  {
   "cell_type": "code",
   "execution_count": 122,
   "metadata": {},
   "outputs": [
    {
     "name": "stdout",
     "output_type": "stream",
     "text": [
      "Age                        0.212322\n",
      "Sex                        0.297721\n",
      "Chest pain type            0.417436\n",
      "BP                         0.155365\n",
      "Cholesterol                0.114657\n",
      "FBS over 120              -0.016319\n",
      "EKG results                0.182091\n",
      "Max HR                    -0.416492\n",
      "Exercise angina            0.419303\n",
      "ST depression              0.417967\n",
      "Slope of ST                0.337616\n",
      "Number of vessels fluro    0.455336\n",
      "Thallium                   0.525020\n",
      "Heart Disease              1.000000\n",
      "Name: Heart Disease, dtype: float64\n"
     ]
    }
   ],
   "source": [
    "print(Heart_df.corr()['Heart Disease'])"
   ]
  },
  {
   "cell_type": "code",
   "execution_count": 124,
   "metadata": {},
   "outputs": [],
   "source": [
    "df=df.drop('Max HR')\n"
   ]
  },
  {
   "cell_type": "code",
   "execution_count": 125,
   "metadata": {},
   "outputs": [
    {
     "name": "stdout",
     "output_type": "stream",
     "text": [
      "root\n",
      " |-- Age: integer (nullable = true)\n",
      " |-- Sex: integer (nullable = true)\n",
      " |-- Chest pain type: integer (nullable = true)\n",
      " |-- BP: double (nullable = true)\n",
      " |-- Cholesterol: double (nullable = true)\n",
      " |-- FBS over 120: integer (nullable = true)\n",
      " |-- EKG results: integer (nullable = true)\n",
      " |-- Exercise angina: integer (nullable = true)\n",
      " |-- ST depression: double (nullable = true)\n",
      " |-- Slope of ST: integer (nullable = true)\n",
      " |-- Number of vessels fluro: integer (nullable = true)\n",
      " |-- Thallium: integer (nullable = true)\n",
      " |-- Heart Disease: integer (nullable = true)\n",
      "\n"
     ]
    }
   ],
   "source": [
    "df.printSchema()"
   ]
  },
  {
   "cell_type": "code",
   "execution_count": 126,
   "metadata": {},
   "outputs": [
    {
     "name": "stdout",
     "output_type": "stream",
     "text": [
      "Age \t with null values:  0\n",
      "Sex \t with null values:  0\n",
      "Chest pain type \t with null values:  0\n",
      "BP \t with null values:  0\n",
      "Cholesterol \t with null values:  0\n",
      "FBS over 120 \t with null values:  0\n",
      "EKG results \t with null values:  0\n",
      "Exercise angina \t with null values:  0\n",
      "ST depression \t with null values:  0\n",
      "Slope of ST \t with null values:  0\n",
      "Number of vessels fluro \t with null values:  0\n",
      "Thallium \t with null values:  0\n",
      "Heart Disease \t with null values:  0\n"
     ]
    }
   ],
   "source": [
    "for col in df.columns:\n",
    "    print(col, \"\\t\", \"with null values: \", \n",
    "          df.filter(df[col].isNull()).count())"
   ]
  },
  {
   "cell_type": "code",
   "execution_count": 127,
   "metadata": {},
   "outputs": [
    {
     "name": "stdout",
     "output_type": "stream",
     "text": [
      "+---+---+---------------+-----+-----------+------------+-----------+---------------+-------------+-----------+-----------------------+--------+-------------+\n",
      "|Age|Sex|Chest pain type|   BP|Cholesterol|FBS over 120|EKG results|Exercise angina|ST depression|Slope of ST|Number of vessels fluro|Thallium|Heart Disease|\n",
      "+---+---+---------------+-----+-----------+------------+-----------+---------------+-------------+-----------+-----------------------+--------+-------------+\n",
      "| 29|  1|              2|130.0|      204.0|           0|          2|              0|          0.0|          1|                      0|       3|            0|\n",
      "| 34|  0|              2|118.0|      210.0|           0|          0|              0|          0.7|          1|                      0|       3|            0|\n",
      "| 34|  1|              1|118.0|      182.0|           0|          2|              0|          0.0|          1|                      0|       3|            0|\n",
      "| 35|  1|              4|120.0|      198.0|           0|          0|              1|          1.6|          2|                      0|       7|            1|\n",
      "| 35|  1|              4|126.0|      282.0|           0|          2|              1|          0.0|          1|                      0|       7|            1|\n",
      "+---+---+---------------+-----+-----------+------------+-----------+---------------+-------------+-----------+-----------------------+--------+-------------+\n",
      "only showing top 5 rows\n",
      "\n"
     ]
    }
   ],
   "source": [
    "df.orderBy('Age').show(5)"
   ]
  },
  {
   "cell_type": "code",
   "execution_count": 128,
   "metadata": {},
   "outputs": [
    {
     "data": {
      "text/html": [
       "<div>\n",
       "<style scoped>\n",
       "    .dataframe tbody tr th:only-of-type {\n",
       "        vertical-align: middle;\n",
       "    }\n",
       "\n",
       "    .dataframe tbody tr th {\n",
       "        vertical-align: top;\n",
       "    }\n",
       "\n",
       "    .dataframe thead th {\n",
       "        text-align: right;\n",
       "    }\n",
       "</style>\n",
       "<table border=\"1\" class=\"dataframe\">\n",
       "  <thead>\n",
       "    <tr style=\"text-align: right;\">\n",
       "      <th></th>\n",
       "      <th>Age</th>\n",
       "      <th>Sex</th>\n",
       "      <th>Chest pain type</th>\n",
       "      <th>BP</th>\n",
       "      <th>Cholesterol</th>\n",
       "      <th>FBS over 120</th>\n",
       "      <th>EKG results</th>\n",
       "      <th>Max HR</th>\n",
       "      <th>Exercise angina</th>\n",
       "      <th>ST depression</th>\n",
       "      <th>Slope of ST</th>\n",
       "      <th>Number of vessels fluro</th>\n",
       "      <th>Thallium</th>\n",
       "      <th>Heart Disease</th>\n",
       "    </tr>\n",
       "  </thead>\n",
       "  <tbody>\n",
       "    <tr>\n",
       "      <th>0</th>\n",
       "      <td>1.708920</td>\n",
       "      <td>0.688222</td>\n",
       "      <td>0.869313</td>\n",
       "      <td>-0.075410</td>\n",
       "      <td>1.395435</td>\n",
       "      <td>-0.416256</td>\n",
       "      <td>0.979844</td>\n",
       "      <td>-1.752392</td>\n",
       "      <td>-0.699923</td>\n",
       "      <td>1.178823</td>\n",
       "      <td>0.675165</td>\n",
       "      <td>2.468099</td>\n",
       "      <td>-0.874083</td>\n",
       "      <td>1</td>\n",
       "    </tr>\n",
       "    <tr>\n",
       "      <th>1</th>\n",
       "      <td>1.379578</td>\n",
       "      <td>-1.447639</td>\n",
       "      <td>-0.183219</td>\n",
       "      <td>-0.913647</td>\n",
       "      <td>6.065076</td>\n",
       "      <td>-0.416256</td>\n",
       "      <td>0.979844</td>\n",
       "      <td>0.449574</td>\n",
       "      <td>-0.699923</td>\n",
       "      <td>0.480261</td>\n",
       "      <td>0.675165</td>\n",
       "      <td>-0.710216</td>\n",
       "      <td>1.187073</td>\n",
       "      <td>0</td>\n",
       "    </tr>\n",
       "    <tr>\n",
       "      <th>2</th>\n",
       "      <td>0.281771</td>\n",
       "      <td>0.688222</td>\n",
       "      <td>-1.235750</td>\n",
       "      <td>-0.410705</td>\n",
       "      <td>0.218376</td>\n",
       "      <td>-0.416256</td>\n",
       "      <td>-1.024382</td>\n",
       "      <td>-0.370766</td>\n",
       "      <td>-0.699923</td>\n",
       "      <td>-0.654902</td>\n",
       "      <td>-0.952466</td>\n",
       "      <td>-0.710216</td>\n",
       "      <td>1.187073</td>\n",
       "      <td>1</td>\n",
       "    </tr>\n",
       "    <tr>\n",
       "      <th>3</th>\n",
       "      <td>1.050236</td>\n",
       "      <td>0.688222</td>\n",
       "      <td>0.869313</td>\n",
       "      <td>-0.187175</td>\n",
       "      <td>0.256969</td>\n",
       "      <td>-0.416256</td>\n",
       "      <td>-1.024382</td>\n",
       "      <td>-1.925096</td>\n",
       "      <td>1.423438</td>\n",
       "      <td>-0.742222</td>\n",
       "      <td>0.675165</td>\n",
       "      <td>0.349222</td>\n",
       "      <td>1.187073</td>\n",
       "      <td>0</td>\n",
       "    </tr>\n",
       "    <tr>\n",
       "      <th>4</th>\n",
       "      <td>2.148043</td>\n",
       "      <td>-1.447639</td>\n",
       "      <td>-1.235750</td>\n",
       "      <td>-0.634234</td>\n",
       "      <td>0.372745</td>\n",
       "      <td>-0.416256</td>\n",
       "      <td>0.979844</td>\n",
       "      <td>-1.234283</td>\n",
       "      <td>1.423438</td>\n",
       "      <td>-0.742222</td>\n",
       "      <td>-0.952466</td>\n",
       "      <td>0.349222</td>\n",
       "      <td>-0.874083</td>\n",
       "      <td>0</td>\n",
       "    </tr>\n",
       "  </tbody>\n",
       "</table>\n",
       "</div>"
      ],
      "text/plain": [
       "        Age       Sex  Chest pain type        BP  Cholesterol  FBS over 120  \\\n",
       "0  1.708920  0.688222         0.869313 -0.075410     1.395435     -0.416256   \n",
       "1  1.379578 -1.447639        -0.183219 -0.913647     6.065076     -0.416256   \n",
       "2  0.281771  0.688222        -1.235750 -0.410705     0.218376     -0.416256   \n",
       "3  1.050236  0.688222         0.869313 -0.187175     0.256969     -0.416256   \n",
       "4  2.148043 -1.447639        -1.235750 -0.634234     0.372745     -0.416256   \n",
       "\n",
       "   EKG results    Max HR  Exercise angina  ST depression  Slope of ST  \\\n",
       "0     0.979844 -1.752392        -0.699923       1.178823     0.675165   \n",
       "1     0.979844  0.449574        -0.699923       0.480261     0.675165   \n",
       "2    -1.024382 -0.370766        -0.699923      -0.654902    -0.952466   \n",
       "3    -1.024382 -1.925096         1.423438      -0.742222     0.675165   \n",
       "4     0.979844 -1.234283         1.423438      -0.742222    -0.952466   \n",
       "\n",
       "   Number of vessels fluro  Thallium  Heart Disease  \n",
       "0                 2.468099 -0.874083              1  \n",
       "1                -0.710216  1.187073              0  \n",
       "2                -0.710216  1.187073              1  \n",
       "3                 0.349222  1.187073              0  \n",
       "4                 0.349222 -0.874083              0  "
      ]
     },
     "execution_count": 128,
     "metadata": {},
     "output_type": "execute_result"
    }
   ],
   "source": [
    "heart_disease=Heart_df.iloc[:,-1]\n",
    "Heart_df.drop(['Heart Disease'],axis=1,inplace=True)\n",
    "Heart_df=(Heart_df-Heart_df.mean())/(Heart_df.std())\n",
    "Heart_df['Heart Disease']=heart_disease\n",
    "Heart_df.head(5)"
   ]
  },
  {
   "cell_type": "code",
   "execution_count": null,
   "metadata": {
    "scrolled": true
   },
   "outputs": [],
   "source": []
  },
  {
   "cell_type": "code",
   "execution_count": null,
   "metadata": {},
   "outputs": [],
   "source": []
  },
  {
   "cell_type": "code",
   "execution_count": 131,
   "metadata": {},
   "outputs": [
    {
     "data": {
      "text/plain": [
       "['Age',\n",
       " 'Sex',\n",
       " 'Chest pain type',\n",
       " 'BP',\n",
       " 'Cholesterol',\n",
       " 'FBS over 120',\n",
       " 'EKG results',\n",
       " 'Exercise angina',\n",
       " 'ST depression',\n",
       " 'Slope of ST',\n",
       " 'Number of vessels fluro',\n",
       " 'Thallium',\n",
       " 'Heart Disease']"
      ]
     },
     "execution_count": 131,
     "metadata": {},
     "output_type": "execute_result"
    }
   ],
   "source": [
    "\n",
    "from pyspark.ml.linalg import Vectors\n",
    "from pyspark.ml.feature import VectorAssembler\n",
    "\n",
    "\n",
    "df.columns"
   ]
  },
  {
   "cell_type": "code",
   "execution_count": 130,
   "metadata": {},
   "outputs": [],
   "source": [
    "assembler = VectorAssembler(\n",
    "  inputCols=['Age',\n",
    " 'Sex',\n",
    " 'Chest pain type',\n",
    " 'BP',\n",
    " 'Cholesterol',\n",
    " 'FBS over 120',\n",
    " 'EKG results',\n",
    " 'Exercise angina',\n",
    " 'ST depression',\n",
    " 'Slope of ST',\n",
    " 'Number of vessels fluro',\n",
    " 'Thallium'],\n",
    "              outputCol= 'features')"
   ]
  },
  {
   "cell_type": "code",
   "execution_count": 132,
   "metadata": {},
   "outputs": [],
   "source": [
    "output = assembler.transform(df)"
   ]
  },
  {
   "cell_type": "code",
   "execution_count": 133,
   "metadata": {},
   "outputs": [],
   "source": [
    "final_data = output.select(\"features\",'Heart Disease')"
   ]
  },
  {
   "cell_type": "code",
   "execution_count": 134,
   "metadata": {},
   "outputs": [],
   "source": [
    "train_data,test_data = final_data.randomSplit([0.7,0.3])"
   ]
  },
  {
   "cell_type": "code",
   "execution_count": 135,
   "metadata": {},
   "outputs": [],
   "source": [
    "from pyspark.ml.classification import DecisionTreeClassifier,GBTClassifier,RandomForestClassifier\n",
    "from pyspark.ml import Pipeline\n",
    "\n",
    "from pyspark.ml.regression import RandomForestRegressor\n",
    "from pyspark.ml.evaluation import RegressionEvaluator"
   ]
  },
  {
   "cell_type": "code",
   "execution_count": 136,
   "metadata": {},
   "outputs": [],
   "source": [
    "\n",
    "dtc = DecisionTreeClassifier(labelCol='Heart Disease',featuresCol='features')\n",
    "rfc = RandomForestClassifier(labelCol='Heart Disease',featuresCol='features')\n",
    "gbt = GBTClassifier(labelCol='Heart Disease',featuresCol='features')"
   ]
  },
  {
   "cell_type": "code",
   "execution_count": 137,
   "metadata": {},
   "outputs": [],
   "source": [
    "dtc_model = dtc.fit(train_data)\n",
    "rfc_model = rfc.fit(train_data)\n",
    "gbt_model = gbt.fit(train_data)"
   ]
  },
  {
   "cell_type": "code",
   "execution_count": 138,
   "metadata": {},
   "outputs": [],
   "source": [
    "dtc_predictions = dtc_model.transform(test_data)\n",
    "rfc_predictions = rfc_model.transform(test_data)\n",
    "gbt_predictions = gbt_model.transform(test_data)"
   ]
  },
  {
   "cell_type": "code",
   "execution_count": 139,
   "metadata": {},
   "outputs": [],
   "source": [
    "from pyspark.ml.evaluation import BinaryClassificationEvaluator\n",
    "\n",
    "\n",
    "my_binary_eval = BinaryClassificationEvaluator(labelCol = 'Heart Disease')"
   ]
  },
  {
   "cell_type": "code",
   "execution_count": 140,
   "metadata": {},
   "outputs": [
    {
     "name": "stdout",
     "output_type": "stream",
     "text": [
      "DTC\n",
      "0.7435740514075887\n",
      "RFC\n",
      "0.8641370869033048\n",
      "GBT\n",
      "0.6817625458996327\n"
     ]
    }
   ],
   "source": [
    "print(\"DTC\")\n",
    "print(my_binary_eval.evaluate(dtc_predictions))\n",
    "\n",
    "\n",
    "print(\"RFC\")\n",
    "print(my_binary_eval.evaluate(rfc_predictions))\n",
    "\n",
    "\n",
    "my_binary_gbt_eval = BinaryClassificationEvaluator(labelCol='Heart Disease', rawPredictionCol='prediction')\n",
    "print(\"GBT\")\n",
    "print(my_binary_gbt_eval.evaluate(gbt_predictions))"
   ]
  },
  {
   "cell_type": "code",
   "execution_count": 141,
   "metadata": {},
   "outputs": [],
   "source": [
    "from pyspark.ml.evaluation import MulticlassClassificationEvaluator\n",
    "acc_evaluator = MulticlassClassificationEvaluator(labelCol=\"Heart Disease\", predictionCol=\"prediction\", metricName=\"accuracy\")"
   ]
  },
  {
   "cell_type": "code",
   "execution_count": 142,
   "metadata": {},
   "outputs": [],
   "source": [
    "dtc_acc = acc_evaluator.evaluate(dtc_predictions)\n",
    "rfc_acc = acc_evaluator.evaluate(rfc_predictions)\n",
    "gbt_acc = acc_evaluator.evaluate(gbt_predictions)"
   ]
  },
  {
   "cell_type": "code",
   "execution_count": 143,
   "metadata": {},
   "outputs": [
    {
     "name": "stdout",
     "output_type": "stream",
     "text": [
      "Here are the results!\n",
      "----------------------------------------\n",
      "A single decision tree has an accuracy of: 71.60%\n",
      "----------------------------------------\n",
      "A random forest ensemble has an accuracy of: 81.48%\n",
      "----------------------------------------\n",
      "An ensemble using GBT has an accuracy of: 69.14%\n"
     ]
    }
   ],
   "source": [
    "print(\"Here are the results!\")\n",
    "print('-'*40)\n",
    "print('A single decision tree has an accuracy of: {0:2.2f}%'.format(dtc_acc*100))\n",
    "print('-'*40)\n",
    "print('A random forest ensemble has an accuracy of: {0:2.2f}%'.format(rfc_acc*100))\n",
    "print('-'*40)\n",
    "print('An ensemble using GBT has an accuracy of: {0:2.2f}%'.format(gbt_acc*100))"
   ]
  },
  {
   "cell_type": "code",
   "execution_count": null,
   "metadata": {},
   "outputs": [],
   "source": []
  }
 ],
 "metadata": {
  "kernelspec": {
   "display_name": "Python 3",
   "language": "python",
   "name": "python3"
  },
  "language_info": {
   "codemirror_mode": {
    "name": "ipython",
    "version": 3
   },
   "file_extension": ".py",
   "mimetype": "text/x-python",
   "name": "python",
   "nbconvert_exporter": "python",
   "pygments_lexer": "ipython3",
   "version": "3.5.2"
  }
 },
 "nbformat": 4,
 "nbformat_minor": 2
}
